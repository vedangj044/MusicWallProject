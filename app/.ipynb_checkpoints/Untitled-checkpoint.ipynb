{
 "cells": [
  {
   "cell_type": "code",
   "execution_count": 1,
   "metadata": {},
   "outputs": [],
   "source": [
    "import json"
   ]
  },
  {
   "cell_type": "code",
   "execution_count": 2,
   "metadata": {},
   "outputs": [],
   "source": [
    "resp = open(\"resp.json\", \"r\")"
   ]
  },
  {
   "cell_type": "code",
   "execution_count": 5,
   "metadata": {},
   "outputs": [],
   "source": [
    "x = json.loads(resp.read())"
   ]
  },
  {
   "cell_type": "code",
   "execution_count": 6,
   "metadata": {},
   "outputs": [
    {
     "data": {
      "text/plain": [
       "'CAUQAA'"
      ]
     },
     "execution_count": 6,
     "metadata": {},
     "output_type": "execute_result"
    }
   ],
   "source": [
    "x[\"nextPageToken\"]"
   ]
  },
  {
   "cell_type": "code",
   "execution_count": 9,
   "metadata": {},
   "outputs": [
    {
     "data": {
      "text/plain": [
       "'24'"
      ]
     },
     "execution_count": 9,
     "metadata": {},
     "output_type": "execute_result"
    }
   ],
   "source": [
    "x[\"items\"][0][\"snippet\"][\"categoryId\"]"
   ]
  },
  {
   "cell_type": "code",
   "execution_count": 16,
   "metadata": {},
   "outputs": [],
   "source": [
    "for i in x[\"items\"]:\n",
    "    if i[\"snippet\"][\"categoryId\"] == 24:\n",
    "        print(\"true\")"
   ]
  },
  {
   "cell_type": "code",
   "execution_count": 11,
   "metadata": {},
   "outputs": [
    {
     "ename": "KeyError",
     "evalue": "'previousPageToken'",
     "output_type": "error",
     "traceback": [
      "\u001b[0;31m---------------------------------------------------------------------------\u001b[0m",
      "\u001b[0;31mKeyError\u001b[0m                                  Traceback (most recent call last)",
      "\u001b[0;32m<ipython-input-11-6a89122145c2>\u001b[0m in \u001b[0;36m<module>\u001b[0;34m\u001b[0m\n\u001b[0;32m----> 1\u001b[0;31m \u001b[0mx\u001b[0m\u001b[0;34m[\u001b[0m\u001b[0;34m\"previousPageToken\"\u001b[0m\u001b[0;34m]\u001b[0m\u001b[0;34m\u001b[0m\u001b[0m\n\u001b[0m",
      "\u001b[0;31mKeyError\u001b[0m: 'previousPageToken'"
     ]
    }
   ],
   "source": [
    "x[\"previousPageToken\"]"
   ]
  },
  {
   "cell_type": "code",
   "execution_count": 15,
   "metadata": {},
   "outputs": [
    {
     "name": "stdout",
     "output_type": "stream",
     "text": [
      "else\n"
     ]
    }
   ],
   "source": [
    "if \"previousPageToken\" not in x:\n",
    "    print(\"else\")"
   ]
  },
  {
   "cell_type": "code",
   "execution_count": 17,
   "metadata": {},
   "outputs": [],
   "source": [
    "for i in x[\"items\"]:\n",
    "    if i[\"snippet\"][\"categoryId\"] == 24:\n",
    "        print(\"true\")\n",
    "        "
   ]
  },
  {
   "cell_type": "code",
   "execution_count": 20,
   "metadata": {},
   "outputs": [
    {
     "name": "stdout",
     "output_type": "stream",
     "text": [
      "MKk1u5RMTn4\n",
      "dvgZkm1xWPE\n",
      "PJWemSzExXs\n",
      "2mWaqsC3U7k\n",
      "b4KvNYe-fCg\n"
     ]
    }
   ],
   "source": [
    "for i in x[\"items\"]:\n",
    "    if i[\"snippet\"][\"categoryId\"] == '24' or i[\"snippet\"][\"categoryId\"] == '10':\n",
    "        print(i[\"id\"])"
   ]
  },
  {
   "cell_type": "code",
   "execution_count": 1,
   "metadata": {},
   "outputs": [],
   "source": [
    "resp = {\n",
    " \"kind\": \"youtube#videoListResponse\",\n",
    " \"etag\": \"\\\"j6xRRd8dTPVVptg711_CSPADRfg/Rop9d0oPL0oZX7KmjRLuFC5Mbvw\\\"\",\n",
    " \"nextPageToken\": \"CAUQAA\",\n",
    " \"pageInfo\": {\n",
    "  \"totalResults\": 91,\n",
    "  \"resultsPerPage\": 5\n",
    " },\n",
    " \"items\": [\n",
    "  {\n",
    "   \"kind\": \"youtube#video\",\n",
    "   \"etag\": \"\\\"j6xRRd8dTPVVptg711_CSPADRfg/yGtJqkUQddJBKW2LnxyydwPKSwU\\\"\",\n",
    "   \"id\": \"MKk1u5RMTn4\",\n",
    "   \"snippet\": {\n",
    "    \"publishedAt\": \"2009-07-12T21:31:30.000Z\",\n",
    "    \"channelId\": \"UC0hNui8bT7yV0Xb8w8YxjHw\",\n",
    "    \"title\": \"Poets of the Fall - Carnival of Rust (Official Video w/ Lyrics)\",\n",
    "    \"description\": \"Enable Subtitles/CC for lyrics.\\nFrom the album \\\"Carnival of Rust\\\" (2006).\\n► Subscribe: http://smarturl.it/POTF.YouTubeSub\\n● Official Store: http://smarturl.it/POTF.OfficialStore \\n● Spotify: http://smarturl.it/POTF.Spotify \\n● iTunes: http://smarturl.it/POTF.iTunes \\n● Amazon: http://smarturl.it/POTF.Amazon \\n● Google Play: http://smarturl.it/POTF.GooglePlay \\n\\nRemastered HD version of the 2006 original that was voted the best Finnish music video of all time. The Special Edition adds lots of new details, depth and clarity. \\n* Remastered by Elmeri Raitanen\\n* Directed by Stobe Harju\\n* Produced by Nitro FX\\n\\n℗ & © 2006 Insomniac Oy\",\n",
    "    \"thumbnails\": {\n",
    "     \"default\": {\n",
    "      \"url\": \"https://i.ytimg.com/vi/MKk1u5RMTn4/default.jpg\",\n",
    "      \"width\": 120,\n",
    "      \"height\": 90\n",
    "     },\n",
    "     \"medium\": {\n",
    "      \"url\": \"https://i.ytimg.com/vi/MKk1u5RMTn4/mqdefault.jpg\",\n",
    "      \"width\": 320,\n",
    "      \"height\": 180\n",
    "     },\n",
    "     \"high\": {\n",
    "      \"url\": \"https://i.ytimg.com/vi/MKk1u5RMTn4/hqdefault.jpg\",\n",
    "      \"width\": 480,\n",
    "      \"height\": 360\n",
    "     },\n",
    "     \"standard\": {\n",
    "      \"url\": \"https://i.ytimg.com/vi/MKk1u5RMTn4/sddefault.jpg\",\n",
    "      \"width\": 640,\n",
    "      \"height\": 480\n",
    "     },\n",
    "     \"maxres\": {\n",
    "      \"url\": \"https://i.ytimg.com/vi/MKk1u5RMTn4/maxresdefault.jpg\",\n",
    "      \"width\": 1280,\n",
    "      \"height\": 720\n",
    "     }\n",
    "    },\n",
    "    \"channelTitle\": \"Poets of the Fall (Official)\",\n",
    "    \"tags\": [\n",
    "     \"poets\",\n",
    "     \"of\",\n",
    "     \"the\",\n",
    "     \"fall\",\n",
    "     \"carnival\",\n",
    "     \"rust\",\n",
    "     \"music\",\n",
    "     \"video\",\n",
    "     \"rock\",\n",
    "     \"hd\",\n",
    "     \"remaster\",\n",
    "     \"Poets Of The Fall (Musical Group)\",\n",
    "     \"Carnival Of Rust (Musical Recording)\",\n",
    "     \"Rock Music (Film Genre)\",\n",
    "     \"Official\"\n",
    "    ],\n",
    "    \"categoryId\": \"24\",\n",
    "    \"liveBroadcastContent\": \"none\",\n",
    "    \"localized\": {\n",
    "     \"title\": \"Poets of the Fall - Carnival of Rust (Official Video w/ Lyrics)\",\n",
    "     \"description\": \"Enable Subtitles/CC for lyrics.\\nFrom the album \\\"Carnival of Rust\\\" (2006).\\n► Subscribe: http://smarturl.it/POTF.YouTubeSub\\n● Official Store: http://smarturl.it/POTF.OfficialStore \\n● Spotify: http://smarturl.it/POTF.Spotify \\n● iTunes: http://smarturl.it/POTF.iTunes \\n● Amazon: http://smarturl.it/POTF.Amazon \\n● Google Play: http://smarturl.it/POTF.GooglePlay \\n\\nRemastered HD version of the 2006 original that was voted the best Finnish music video of all time. The Special Edition adds lots of new details, depth and clarity. \\n* Remastered by Elmeri Raitanen\\n* Directed by Stobe Harju\\n* Produced by Nitro FX\\n\\n℗ & © 2006 Insomniac Oy\"\n",
    "    },\n",
    "    \"defaultAudioLanguage\": \"en\"\n",
    "   }\n",
    "  },\n",
    "  {\n",
    "   \"kind\": \"youtube#video\",\n",
    "   \"etag\": \"\\\"j6xRRd8dTPVVptg711_CSPADRfg/oVAPLy2KIF__YyeSjoJknB1cTK4\\\"\",\n",
    "   \"id\": \"dvgZkm1xWPE\",\n",
    "   \"snippet\": {\n",
    "    \"publishedAt\": \"2008-08-04T09:36:03.000Z\",\n",
    "    \"channelId\": \"UCDPM_n1atn2ijUwHd0NNRQw\",\n",
    "    \"title\": \"Coldplay - Viva La Vida\",\n",
    "    \"description\": \"The new album, Everyday Life, out Nov 22. Pre-order https://coldplay.com \\n\\nTaken from the album Viva La Vida Or Death And All His Friends\\n\\nGet A Head Full Of Dreams now:\\n– iTunes http://cldp.ly/cpitunes\\n– Amazon http://smarturl.it/AHFODamazon\\n– Google Play http://smarturl.it/AHFODgplay\\n– CD (with exclusive holographic stickers) http://smarturl.it/AHFODcd\\n– Vinyl (with exclusive holographic stickers) http://smarturl.it/AHFODvinyl\\n\\n~ Follow Coldplay ~\\nWebsite: http://www.coldplay.com\\nSpotify: http://cldp.ly/cpspotify\\nTwitter: https://twitter.com/coldplay\\nFacebook: https://www.facebook.com/coldplay\\nInstagram: http://instagram.com/coldplay\\nGoogle+: http://instagram.com/coldplay\\nTumblr: http://coldplay.tumblr.com/\\nVK: https://vk.com/coldplay\",\n",
    "    \"thumbnails\": {\n",
    "     \"default\": {\n",
    "      \"url\": \"https://i.ytimg.com/vi/dvgZkm1xWPE/default.jpg\",\n",
    "      \"width\": 120,\n",
    "      \"height\": 90\n",
    "     },\n",
    "     \"medium\": {\n",
    "      \"url\": \"https://i.ytimg.com/vi/dvgZkm1xWPE/mqdefault.jpg\",\n",
    "      \"width\": 320,\n",
    "      \"height\": 180\n",
    "     },\n",
    "     \"high\": {\n",
    "      \"url\": \"https://i.ytimg.com/vi/dvgZkm1xWPE/hqdefault.jpg\",\n",
    "      \"width\": 480,\n",
    "      \"height\": 360\n",
    "     },\n",
    "     \"standard\": {\n",
    "      \"url\": \"https://i.ytimg.com/vi/dvgZkm1xWPE/sddefault.jpg\",\n",
    "      \"width\": 640,\n",
    "      \"height\": 480\n",
    "     },\n",
    "     \"maxres\": {\n",
    "      \"url\": \"https://i.ytimg.com/vi/dvgZkm1xWPE/maxresdefault.jpg\",\n",
    "      \"width\": 1280,\n",
    "      \"height\": 720\n",
    "     }\n",
    "    },\n",
    "    \"channelTitle\": \"Coldplay\",\n",
    "    \"tags\": [\n",
    "     \"Coldplay\",\n",
    "     \"Viva La Vida\",\n",
    "     \"Death And All His Friends\",\n",
    "     \"A Head Full Of Dreams\",\n",
    "     \"Official\",\n",
    "     \"Music\",\n",
    "     \"Video\",\n",
    "     \"2008\",\n",
    "     \"2018\",\n",
    "     \"Rock\",\n",
    "     \"Pop\",\n",
    "     \"Cold\",\n",
    "     \"Play\",\n",
    "     \"Viva\",\n",
    "     \"La\",\n",
    "     \"Vida\",\n",
    "     \"AHead\",\n",
    "     \"Full\",\n",
    "     \"Of\",\n",
    "     \"Dreams\",\n",
    "     \"Warner\",\n",
    "     \"EMI\",\n",
    "     \"WMG\",\n",
    "     \"WMUK\",\n",
    "     \"Parlophone\",\n",
    "     \"British\",\n",
    "     \"uk\",\n",
    "     \"chris\",\n",
    "     \"martin\",\n",
    "     \"Chris Martin\",\n",
    "     \"viva la vida\",\n",
    "     \"official\"\n",
    "    ],\n",
    "    \"categoryId\": \"10\",\n",
    "    \"liveBroadcastContent\": \"none\",\n",
    "    \"localized\": {\n",
    "     \"title\": \"Coldplay - Viva La Vida\",\n",
    "     \"description\": \"The new album, Everyday Life, out Nov 22. Pre-order https://coldplay.com \\n\\nTaken from the album Viva La Vida Or Death And All His Friends\\n\\nGet A Head Full Of Dreams now:\\n– iTunes http://cldp.ly/cpitunes\\n– Amazon http://smarturl.it/AHFODamazon\\n– Google Play http://smarturl.it/AHFODgplay\\n– CD (with exclusive holographic stickers) http://smarturl.it/AHFODcd\\n– Vinyl (with exclusive holographic stickers) http://smarturl.it/AHFODvinyl\\n\\n~ Follow Coldplay ~\\nWebsite: http://www.coldplay.com\\nSpotify: http://cldp.ly/cpspotify\\nTwitter: https://twitter.com/coldplay\\nFacebook: https://www.facebook.com/coldplay\\nInstagram: http://instagram.com/coldplay\\nGoogle+: http://instagram.com/coldplay\\nTumblr: http://coldplay.tumblr.com/\\nVK: https://vk.com/coldplay\"\n",
    "    }\n",
    "   }\n",
    "  },\n",
    "  {\n",
    "   \"kind\": \"youtube#video\",\n",
    "   \"etag\": \"\\\"j6xRRd8dTPVVptg711_CSPADRfg/DW-YD-QxVi19zxA59An8kI24fWE\\\"\",\n",
    "   \"id\": \"PJWemSzExXs\",\n",
    "   \"snippet\": {\n",
    "    \"publishedAt\": \"2016-07-09T17:21:05.000Z\",\n",
    "    \"channelId\": \"UCafUh796DToiY2U3s7X_WTw\",\n",
    "    \"title\": \"BAARISHEIN (Studio) Anuv Jain\",\n",
    "    \"description\": \"Apple Music:  http://itunes.apple.com/album/id/1388608634\\n\\niTunes: http://itunes.apple.com/album/id1388608634?ls=1&app=itunes\\n\\nSaavn: https://www.saavn.com/p/song/english/Baarishein/Baarishein/RC8sZ0cJfAQ\\n\\nGoogle Play: https://play.google.com/store/music/album/Anuv_Jain_Baarishein?id=Bv6lcjikg6krrxov2ucyjtl3xii&hl=en\\n\\nThe first studio recorded single, written, sung and composed by Anuv Jain is here! \\nLike, SHARE, Comment and Subscribe to the channel. \\n\\nFor inquiries- anuvjain95@gmail.com\\nInstagram- anuvjain\",\n",
    "    \"thumbnails\": {\n",
    "     \"default\": {\n",
    "      \"url\": \"https://i.ytimg.com/vi/PJWemSzExXs/default.jpg\",\n",
    "      \"width\": 120,\n",
    "      \"height\": 90\n",
    "     },\n",
    "     \"medium\": {\n",
    "      \"url\": \"https://i.ytimg.com/vi/PJWemSzExXs/mqdefault.jpg\",\n",
    "      \"width\": 320,\n",
    "      \"height\": 180\n",
    "     },\n",
    "     \"high\": {\n",
    "      \"url\": \"https://i.ytimg.com/vi/PJWemSzExXs/hqdefault.jpg\",\n",
    "      \"width\": 480,\n",
    "      \"height\": 360\n",
    "     },\n",
    "     \"standard\": {\n",
    "      \"url\": \"https://i.ytimg.com/vi/PJWemSzExXs/sddefault.jpg\",\n",
    "      \"width\": 640,\n",
    "      \"height\": 480\n",
    "     },\n",
    "     \"maxres\": {\n",
    "      \"url\": \"https://i.ytimg.com/vi/PJWemSzExXs/maxresdefault.jpg\",\n",
    "      \"width\": 1280,\n",
    "      \"height\": 720\n",
    "     }\n",
    "    },\n",
    "    \"channelTitle\": \"Anuv Jain\",\n",
    "    \"tags\": [\n",
    "     \"music\",\n",
    "     \"hindi\",\n",
    "     \"indie\",\n",
    "     \"vocals\",\n",
    "     \"bollywood\",\n",
    "     \"acoustic\",\n",
    "     \"singing\",\n",
    "     \"keyboard\"\n",
    "    ],\n",
    "    \"categoryId\": \"10\",\n",
    "    \"liveBroadcastContent\": \"none\",\n",
    "    \"localized\": {\n",
    "     \"title\": \"BAARISHEIN (Studio) Anuv Jain\",\n",
    "     \"description\": \"Apple Music:  http://itunes.apple.com/album/id/1388608634\\n\\niTunes: http://itunes.apple.com/album/id1388608634?ls=1&app=itunes\\n\\nSaavn: https://www.saavn.com/p/song/english/Baarishein/Baarishein/RC8sZ0cJfAQ\\n\\nGoogle Play: https://play.google.com/store/music/album/Anuv_Jain_Baarishein?id=Bv6lcjikg6krrxov2ucyjtl3xii&hl=en\\n\\nThe first studio recorded single, written, sung and composed by Anuv Jain is here! \\nLike, SHARE, Comment and Subscribe to the channel. \\n\\nFor inquiries- anuvjain95@gmail.com\\nInstagram- anuvjain\"\n",
    "    },\n",
    "    \"defaultAudioLanguage\": \"hi\"\n",
    "   }\n",
    "  },\n",
    "  {\n",
    "   \"kind\": \"youtube#video\",\n",
    "   \"etag\": \"\\\"j6xRRd8dTPVVptg711_CSPADRfg/fJbdCIhqnBqU0n82fWHZ_RjHWu0\\\"\",\n",
    "   \"id\": \"2mWaqsC3U7k\",\n",
    "   \"snippet\": {\n",
    "    \"publishedAt\": \"2011-12-19T09:24:34.000Z\",\n",
    "    \"channelId\": \"UCq-Fj5jknLsUf-MWSy4_brA\",\n",
    "    \"title\": \"\\\"Phir Se Ud Chala Full Song Rockstar\\\" | Ranbir Kapoor\",\n",
    "    \"description\": \"Enjoy the latest song \\\"Phir Se Ud Chala\\\" starring Ranbir Kapoor from the upcoming Bollywood movie Rockstar. Some shots of this song are shooted in T-Series film studio's to give it more realistic look. \\n\\nSong ~Phir Se Ud Chala\\nMovie ~ Rockstar\\nStarcast ~ Ranbir Kapoor, Nargis Fakhri\\nSinger ~ Mohit Chauhan\\nMusic By ~ A R Rahman\\nMusic Label ~ T-Series\\n\\nSUBSCRIBE T-Series channel for unlimited entertainment\\nhttp://www.youtube.com/tseries\\n\\nCircle us on G+ \\nhttp://www.google.com/+tseriesmusic\\n\\nLike us on Facebook\\nhttp://www.facebook.com/tseriesmusic\\n\\nFollow us on\\nhttp://www.twitter.com/_Tseries\",\n",
    "    \"thumbnails\": {\n",
    "     \"default\": {\n",
    "      \"url\": \"https://i.ytimg.com/vi/2mWaqsC3U7k/default.jpg\",\n",
    "      \"width\": 120,\n",
    "      \"height\": 90\n",
    "     },\n",
    "     \"medium\": {\n",
    "      \"url\": \"https://i.ytimg.com/vi/2mWaqsC3U7k/mqdefault.jpg\",\n",
    "      \"width\": 320,\n",
    "      \"height\": 180\n",
    "     },\n",
    "     \"high\": {\n",
    "      \"url\": \"https://i.ytimg.com/vi/2mWaqsC3U7k/hqdefault.jpg\",\n",
    "      \"width\": 480,\n",
    "      \"height\": 360\n",
    "     },\n",
    "     \"standard\": {\n",
    "      \"url\": \"https://i.ytimg.com/vi/2mWaqsC3U7k/sddefault.jpg\",\n",
    "      \"width\": 640,\n",
    "      \"height\": 480\n",
    "     }\n",
    "    },\n",
    "    \"channelTitle\": \"T-Series\",\n",
    "    \"tags\": [\n",
    "     \"phir se ud chala\",\n",
    "     \"phir se\",\n",
    "     \"rockstar full songs\",\n",
    "     \"ranbir kapoor songs\",\n",
    "     \"mohit chauhan songs\",\n",
    "     \"hindi movie full songs\",\n",
    "     \"latest hindi songs\",\n",
    "     \"phir se ud chala ar rahman\",\n",
    "     \"tseries rockstar\",\n",
    "     \"sadda haq\",\n",
    "     \"nadaan parindey\",\n",
    "     \"bollywood songs\",\n",
    "     \"nargis fakhri\",\n",
    "     \"romantic songs\",\n",
    "     \"phir se ud chala rockstar\",\n",
    "     \"phir se ud chala rockstar lyrics\",\n",
    "     \"phir se ud chala rockstar video\",\n",
    "     \"phir se ud chala rockstar full song\",\n",
    "     \"phir se ud chala rockstar karaoke\",\n",
    "     \"Rockstar (Film)\",\n",
    "     \"Mohit Chauhan (Musical Artist)\"\n",
    "    ],\n",
    "    \"categoryId\": \"10\",\n",
    "    \"liveBroadcastContent\": \"none\",\n",
    "    \"defaultLanguage\": \"en\",\n",
    "    \"localized\": {\n",
    "     \"title\": \"\\\"Phir Se Ud Chala Full Song Rockstar\\\" | Ranbir Kapoor\",\n",
    "     \"description\": \"Enjoy the latest song \\\"Phir Se Ud Chala\\\" starring Ranbir Kapoor from the upcoming Bollywood movie Rockstar. Some shots of this song are shooted in T-Series film studio's to give it more realistic look. \\n\\nSong ~Phir Se Ud Chala\\nMovie ~ Rockstar\\nStarcast ~ Ranbir Kapoor, Nargis Fakhri\\nSinger ~ Mohit Chauhan\\nMusic By ~ A R Rahman\\nMusic Label ~ T-Series\\n\\nSUBSCRIBE T-Series channel for unlimited entertainment\\nhttp://www.youtube.com/tseries\\n\\nCircle us on G+ \\nhttp://www.google.com/+tseriesmusic\\n\\nLike us on Facebook\\nhttp://www.facebook.com/tseriesmusic\\n\\nFollow us on\\nhttp://www.twitter.com/_Tseries\"\n",
    "    },\n",
    "    \"defaultAudioLanguage\": \"hi\"\n",
    "   }\n",
    "  },\n",
    "  {\n",
    "   \"kind\": \"youtube#video\",\n",
    "   \"etag\": \"\\\"j6xRRd8dTPVVptg711_CSPADRfg/J8eagtAP128oY48kwAomY5W3xkc\\\"\",\n",
    "   \"id\": \"b4KvNYe-fCg\",\n",
    "   \"snippet\": {\n",
    "    \"publishedAt\": \"2018-09-25T07:30:00.000Z\",\n",
    "    \"channelId\": \"UCWOA1ZGywLbqmigxE4Qlvuw\",\n",
    "    \"title\": \"Little Things | Pause by Prateek Kuhad | Netflix\",\n",
    "    \"description\": \"Prateek Kuhad returns with Pause, a lyrically nostalgic rendition of modern relationships. This video, directed by Reema Sengupta, exhibits how relationships can be precariously balanced, as Dhruv and Kavya try and find theirs. \\n\\nWatch Little Things on Netflix:\\nhttps://www.netflix.com/in/title/81011159\\n\\nSUBSCRIBE: http://bit.ly/29qBUt7\\n\\nAbout Netflix:\\nNetflix is the world's leading internet entertainment service with 130 million memberships in over 190 countries enjoying TV series, documentaries and feature films across a wide variety of genres and languages. Members can watch as much as they want, anytime, anywhere, on any internet-connected screen. Members can play, pause and resume watching, all without commercials or commitments.\\n\\nConnect with Netflix Online:\\nVisit Netflix WEBSITE: http://nflx.it/29BcWb5\\nLike Netflix Kids on FACEBOOK: http://bit.ly/NetflixFamily\\nLike Netflix on FACEBOOK: http://bit.ly/29kkAtN\\nFollow Netflix on TWITTER: http://bit.ly/29gswqd\\nFollow Netflix on INSTAGRAM: http://bit.ly/29oO4UP\\nFollow Netflix on TUMBLR: http://bit.ly/29kkemT\\n\\nLittle Things | Pause by Prateek Kuhad | Netflix\\nhttp://youtube.com/netflix\\n\\nDirector: Reema Sengupta\\nDop: Satchith Paulose\\nProduction designer: Surabhi Lad\\nEditor (offline): Magic Farm Studio\\nGrader: Naveen Shetty\\n1st AD: Farooq Dehlvi\\n2nd ad: Aadi Iyer\\nDA: Priyal Shah\\nMusic : Prateek Kuhad\\nAcro yoga trainers and choreography: Tre Munroe & Lara Saluja\\nTrack Credits:\\nMusic Composer: Prateek Kuhad\\nLyricist: Prateek Kuhad \\nSinger: Prateek Kuhad \\nPiano: Prateek Kuhad\\nMusic Producer: Prateek Kuhad \\nRecorded at: Hyde Street Studios, San Fransisco\\nMixed by: Mario Borgatta\\nMastered by: Robin Schmidt\",\n",
    "    \"thumbnails\": {\n",
    "     \"default\": {\n",
    "      \"url\": \"https://i.ytimg.com/vi/b4KvNYe-fCg/default.jpg\",\n",
    "      \"width\": 120,\n",
    "      \"height\": 90\n",
    "     },\n",
    "     \"medium\": {\n",
    "      \"url\": \"https://i.ytimg.com/vi/b4KvNYe-fCg/mqdefault.jpg\",\n",
    "      \"width\": 320,\n",
    "      \"height\": 180\n",
    "     },\n",
    "     \"high\": {\n",
    "      \"url\": \"https://i.ytimg.com/vi/b4KvNYe-fCg/hqdefault.jpg\",\n",
    "      \"width\": 480,\n",
    "      \"height\": 360\n",
    "     },\n",
    "     \"standard\": {\n",
    "      \"url\": \"https://i.ytimg.com/vi/b4KvNYe-fCg/sddefault.jpg\",\n",
    "      \"width\": 640,\n",
    "      \"height\": 480\n",
    "     },\n",
    "     \"maxres\": {\n",
    "      \"url\": \"https://i.ytimg.com/vi/b4KvNYe-fCg/maxresdefault.jpg\",\n",
    "      \"width\": 1280,\n",
    "      \"height\": 720\n",
    "     }\n",
    "    },\n",
    "    \"channelTitle\": \"Netflix\",\n",
    "    \"tags\": [\n",
    "     \"Netflix\",\n",
    "     \"Trailer\",\n",
    "     \"Netflix Original Series\",\n",
    "     \"Netflix Series\",\n",
    "     \"television\",\n",
    "     \"movies\",\n",
    "     \"streaming\",\n",
    "     \"movies online\",\n",
    "     \"television online\",\n",
    "     \"documentary\",\n",
    "     \"comedy\",\n",
    "     \"drama\",\n",
    "     \"08282016NtflxUSCAN\",\n",
    "     \"watch movies\",\n",
    "     \"Dhruv Sehgal\",\n",
    "     \"Mithila Palkar\",\n",
    "     \"Dhruv and Kavya\",\n",
    "     \"Dhruv\",\n",
    "     \"Kavya\",\n",
    "     \"Little Things\",\n",
    "     \"Little Things Season 2\",\n",
    "     \"Little Things 2\",\n",
    "     \"Mumbai\",\n",
    "     \"Relationship\",\n",
    "     \"Dice Media\",\n",
    "     \"Prateek Kuhad\",\n",
    "     \"Pause\",\n",
    "     \"Reema Sengupta\",\n",
    "     \"Music Video\",\n",
    "     \"LtlThgsMVD914\",\n",
    "     \"PLvahqwMqN4M35d1XdbUEWZT_r36Z6tIz3\",\n",
    "     \"PLvahqwMqN4M0MGkARAHH7sCVVEepIBVYe\"\n",
    "    ],\n",
    "    \"categoryId\": \"24\",\n",
    "    \"liveBroadcastContent\": \"none\",\n",
    "    \"localized\": {\n",
    "     \"title\": \"Little Things | Pause by Prateek Kuhad | Netflix\",\n",
    "     \"description\": \"Prateek Kuhad returns with Pause, a lyrically nostalgic rendition of modern relationships. This video, directed by Reema Sengupta, exhibits how relationships can be precariously balanced, as Dhruv and Kavya try and find theirs. \\n\\nWatch Little Things on Netflix:\\nhttps://www.netflix.com/in/title/81011159\\n\\nSUBSCRIBE: http://bit.ly/29qBUt7\\n\\nAbout Netflix:\\nNetflix is the world's leading internet entertainment service with 130 million memberships in over 190 countries enjoying TV series, documentaries and feature films across a wide variety of genres and languages. Members can watch as much as they want, anytime, anywhere, on any internet-connected screen. Members can play, pause and resume watching, all without commercials or commitments.\\n\\nConnect with Netflix Online:\\nVisit Netflix WEBSITE: http://nflx.it/29BcWb5\\nLike Netflix Kids on FACEBOOK: http://bit.ly/NetflixFamily\\nLike Netflix on FACEBOOK: http://bit.ly/29kkAtN\\nFollow Netflix on TWITTER: http://bit.ly/29gswqd\\nFollow Netflix on INSTAGRAM: http://bit.ly/29oO4UP\\nFollow Netflix on TUMBLR: http://bit.ly/29kkemT\\n\\nLittle Things | Pause by Prateek Kuhad | Netflix\\nhttp://youtube.com/netflix\\n\\nDirector: Reema Sengupta\\nDop: Satchith Paulose\\nProduction designer: Surabhi Lad\\nEditor (offline): Magic Farm Studio\\nGrader: Naveen Shetty\\n1st AD: Farooq Dehlvi\\n2nd ad: Aadi Iyer\\nDA: Priyal Shah\\nMusic : Prateek Kuhad\\nAcro yoga trainers and choreography: Tre Munroe & Lara Saluja\\nTrack Credits:\\nMusic Composer: Prateek Kuhad\\nLyricist: Prateek Kuhad \\nSinger: Prateek Kuhad \\nPiano: Prateek Kuhad\\nMusic Producer: Prateek Kuhad \\nRecorded at: Hyde Street Studios, San Fransisco\\nMixed by: Mario Borgatta\\nMastered by: Robin Schmidt\"\n",
    "    },\n",
    "    \"defaultAudioLanguage\": \"en\"\n",
    "   }\n",
    "  }\n",
    " ]\n",
    "}\n",
    "\n"
   ]
  },
  {
   "cell_type": "code",
   "execution_count": 2,
   "metadata": {},
   "outputs": [
    {
     "ename": "NameError",
     "evalue": "name 'json' is not defined",
     "output_type": "error",
     "traceback": [
      "\u001b[0;31m---------------------------------------------------------------------------\u001b[0m",
      "\u001b[0;31mNameError\u001b[0m                                 Traceback (most recent call last)",
      "\u001b[0;32m<ipython-input-2-9f6cdb575a4c>\u001b[0m in \u001b[0;36m<module>\u001b[0;34m\u001b[0m\n\u001b[0;32m----> 1\u001b[0;31m \u001b[0mresp\u001b[0m \u001b[0;34m=\u001b[0m \u001b[0mjson\u001b[0m\u001b[0;34m.\u001b[0m\u001b[0mdumps\u001b[0m\u001b[0;34m(\u001b[0m\u001b[0mlist\u001b[0m\u001b[0;34m)\u001b[0m\u001b[0;34m\u001b[0m\u001b[0m\n\u001b[0m",
      "\u001b[0;31mNameError\u001b[0m: name 'json' is not defined"
     ]
    }
   ],
   "source": [
    "resp = json.dumps(list)"
   ]
  },
  {
   "cell_type": "code",
   "execution_count": 3,
   "metadata": {},
   "outputs": [],
   "source": [
    "import json"
   ]
  },
  {
   "cell_type": "code",
   "execution_count": 4,
   "metadata": {},
   "outputs": [],
   "source": [
    "resp = json.dumps(resp)"
   ]
  },
  {
   "cell_type": "code",
   "execution_count": 5,
   "metadata": {},
   "outputs": [
    {
     "ename": "TypeError",
     "evalue": "string indices must be integers",
     "output_type": "error",
     "traceback": [
      "\u001b[0;31m---------------------------------------------------------------------------\u001b[0m",
      "\u001b[0;31mTypeError\u001b[0m                                 Traceback (most recent call last)",
      "\u001b[0;32m<ipython-input-5-e896095cefcd>\u001b[0m in \u001b[0;36m<module>\u001b[0;34m\u001b[0m\n\u001b[0;32m----> 1\u001b[0;31m \u001b[0mresp\u001b[0m\u001b[0;34m[\u001b[0m\u001b[0;34m\"items\"\u001b[0m\u001b[0;34m]\u001b[0m\u001b[0;34m\u001b[0m\u001b[0m\n\u001b[0m",
      "\u001b[0;31mTypeError\u001b[0m: string indices must be integers"
     ]
    }
   ],
   "source": [
    "resp[\"items\"]"
   ]
  },
  {
   "cell_type": "code",
   "execution_count": null,
   "metadata": {},
   "outputs": [],
   "source": []
  }
 ],
 "metadata": {
  "kernelspec": {
   "display_name": "Python 3",
   "language": "python",
   "name": "python3"
  },
  "language_info": {
   "codemirror_mode": {
    "name": "ipython",
    "version": 3
   },
   "file_extension": ".py",
   "mimetype": "text/x-python",
   "name": "python",
   "nbconvert_exporter": "python",
   "pygments_lexer": "ipython3",
   "version": "3.5.3"
  }
 },
 "nbformat": 4,
 "nbformat_minor": 2
}
